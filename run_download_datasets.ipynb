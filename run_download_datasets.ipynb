{
 "cells": [
  {
   "cell_type": "code",
   "execution_count": 2,
   "metadata": {
    "collapsed": false
   },
   "outputs": [
    {
     "name": "stdout",
     "output_type": "stream",
     "text": [
      "Downloading data/lfw-funneled.tgz\n",
      "[==================================================]"
     ]
    }
   ],
   "source": [
    "import requests\n",
    "import sys, os\n",
    "import tarfile\n",
    "\n",
    "def download_lfw_dataset(url, filename):\n",
    "\n",
    "    data_directory = 'data'\n",
    "\n",
    "    #create data directory if not exist\n",
    "    if not os.path.exists(data_directory):\n",
    "        os.makedirs(data_directory)\n",
    "\n",
    "    #check if file already downloaded\n",
    "    if os.path.exists(filename):\n",
    "        print('Dataset was downloaded before, exit.')\n",
    "        return \n",
    "\n",
    "    #download file\n",
    "    with open(filename, \"wb\") as f:\n",
    "        print(\"Downloading %s\" % filename)\n",
    "        response = requests.get(url, stream=True)\n",
    "        total_length = response.headers.get('content-length')\n",
    "\n",
    "        if total_length is None: # no content length header\n",
    "            f.write(response.content)\n",
    "\n",
    "        else:\n",
    "            dl = 0\n",
    "            total_length = int(total_length)\n",
    "            for data in response.iter_content(chunk_size=int(total_length/100)):\n",
    "                dl += len(data)\n",
    "                f.write(data)\n",
    "                done = int(50 * dl / total_length)\n",
    "                sys.stdout.write(\"\\r[%s%s]\" % ('=' * done, ' ' * (50-done)) )    \n",
    "                sys.stdout.flush()\n",
    "\n",
    "    #extruct .tar file\n",
    "    with tarfile.open(filename, 'r') as f:\n",
    "        f.extractall(data_directory)\n",
    "\n",
    "#lfw.tgz\n",
    "#lfwa.tar.gz\n",
    "#lfw-deepfunneled.tgz\n",
    "#lfw-funneled.tgz\n",
    "\n",
    "#1\n",
    "#url = 'http://vis-www.cs.umass.edu/lfw/lfw-bush.tgz'\n",
    "#filename = 'data/lfw-bush.tgz'\n",
    "\n",
    "#2\n",
    "url = 'http://vis-www.cs.umass.edu/lfw/lfw-funneled.tgz'\n",
    "filename = 'data/lfw-funneled.tgz'\n",
    "\n",
    "download_lfw_dataset(url, filename)"
   ]
  },
  {
   "cell_type": "code",
   "execution_count": null,
   "metadata": {
    "collapsed": true
   },
   "outputs": [],
   "source": []
  }
 ],
 "metadata": {
  "kernelspec": {
   "display_name": "Python 3",
   "language": "python",
   "name": "python3"
  },
  "language_info": {
   "codemirror_mode": {
    "name": "ipython",
    "version": 3
   },
   "file_extension": ".py",
   "mimetype": "text/x-python",
   "name": "python",
   "nbconvert_exporter": "python",
   "pygments_lexer": "ipython3",
   "version": "3.4.3"
  }
 },
 "nbformat": 4,
 "nbformat_minor": 0
}
